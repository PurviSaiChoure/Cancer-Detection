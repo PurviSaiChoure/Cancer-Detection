{
 "cells": [
  {
   "cell_type": "code",
   "execution_count": 1,
   "metadata": {},
   "outputs": [
    {
     "name": "stdout",
     "output_type": "stream",
     "text": [
      "Collecting gdown==4.6.0Note: you may need to restart the kernel to use updated packages.\n",
      "\n",
      "  Downloading gdown-4.6.0-py3-none-any.whl (14 kB)\n",
      "Requirement already satisfied: filelock in c:\\users\\purvi\\anaconda3\\envs\\venv\\lib\\site-packages (from gdown==4.6.0) (3.13.1)\n",
      "Requirement already satisfied: requests[socks] in c:\\users\\purvi\\anaconda3\\envs\\venv\\lib\\site-packages (from gdown==4.6.0) (2.31.0)\n",
      "Requirement already satisfied: six in c:\\users\\purvi\\anaconda3\\envs\\venv\\lib\\site-packages (from gdown==4.6.0) (1.16.0)\n",
      "Requirement already satisfied: tqdm in c:\\users\\purvi\\anaconda3\\envs\\venv\\lib\\site-packages (from gdown==4.6.0) (4.66.1)\n",
      "Requirement already satisfied: beautifulsoup4 in c:\\users\\purvi\\anaconda3\\envs\\venv\\lib\\site-packages (from gdown==4.6.0) (4.12.2)\n",
      "Requirement already satisfied: soupsieve>1.2 in c:\\users\\purvi\\anaconda3\\envs\\venv\\lib\\site-packages (from beautifulsoup4->gdown==4.6.0) (2.5)\n",
      "Requirement already satisfied: charset-normalizer<4,>=2 in c:\\users\\purvi\\anaconda3\\envs\\venv\\lib\\site-packages (from requests[socks]->gdown==4.6.0) (3.3.2)\n",
      "Requirement already satisfied: idna<4,>=2.5 in c:\\users\\purvi\\anaconda3\\envs\\venv\\lib\\site-packages (from requests[socks]->gdown==4.6.0) (3.6)\n",
      "Requirement already satisfied: urllib3<3,>=1.21.1 in c:\\users\\purvi\\anaconda3\\envs\\venv\\lib\\site-packages (from requests[socks]->gdown==4.6.0) (2.1.0)\n",
      "Requirement already satisfied: certifi>=2017.4.17 in c:\\users\\purvi\\anaconda3\\envs\\venv\\lib\\site-packages (from requests[socks]->gdown==4.6.0) (2023.11.17)\n",
      "Requirement already satisfied: PySocks!=1.5.7,>=1.5.6 in c:\\users\\purvi\\anaconda3\\envs\\venv\\lib\\site-packages (from requests[socks]->gdown==4.6.0) (1.7.1)\n",
      "Requirement already satisfied: colorama in c:\\users\\purvi\\anaconda3\\envs\\venv\\lib\\site-packages (from tqdm->gdown==4.6.0) (0.4.6)\n",
      "Installing collected packages: gdown\n",
      "  Attempting uninstall: gdown\n",
      "    Found existing installation: gdown 4.7.1\n",
      "    Uninstalling gdown-4.7.1:\n",
      "      Successfully uninstalled gdown-4.7.1\n",
      "Successfully installed gdown-4.6.0\n"
     ]
    }
   ],
   "source": [
    "pip install gdown==4.6.0\n"
   ]
  },
  {
   "cell_type": "code",
   "execution_count": 1,
   "metadata": {},
   "outputs": [],
   "source": [
    "import gdown"
   ]
  },
  {
   "cell_type": "code",
   "execution_count": 2,
   "metadata": {},
   "outputs": [],
   "source": [
    "url = \"https://drive.google.com/file/d/1-ftGAcR8TCTDpykCaVwcPkAm6f2qaKX9/view?usp=sharing\""
   ]
  },
  {
   "cell_type": "code",
   "execution_count": 3,
   "metadata": {},
   "outputs": [
    {
     "name": "stderr",
     "output_type": "stream",
     "text": [
      "Downloading...\n",
      "From: https://drive.google.com/uc?/export=download&id=1-ftGAcR8TCTDpykCaVwcPkAm6f2qaKX9\n",
      "To: c:\\Users\\purvi\\Chest-Cancer-Classification-using-MLFlow-and-DVC\\research\\Chest-CT-Scan-data.zip\n",
      "100%|██████████| 49.0M/49.0M [04:44<00:00, 172kB/s]\n"
     ]
    },
    {
     "data": {
      "text/plain": [
       "'Chest-CT-Scan-data.zip'"
      ]
     },
     "execution_count": 3,
     "metadata": {},
     "output_type": "execute_result"
    }
   ],
   "source": [
    "file_id = url.split(\"/\")[-2]\n",
    "prefix = 'https://drive.google.com/uc?/export=download&id='\n",
    "gdown.download(prefix+file_id, \"Chest-CT-Scan-data.zip\")"
   ]
  }
 ],
 "metadata": {
  "kernelspec": {
   "display_name": "venv",
   "language": "python",
   "name": "python3"
  },
  "language_info": {
   "codemirror_mode": {
    "name": "ipython",
    "version": 3
   },
   "file_extension": ".py",
   "mimetype": "text/x-python",
   "name": "python",
   "nbconvert_exporter": "python",
   "pygments_lexer": "ipython3",
   "version": "3.8.18"
  }
 },
 "nbformat": 4,
 "nbformat_minor": 2
}
